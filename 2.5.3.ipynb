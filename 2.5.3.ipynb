{
 "cells": [
  {
   "cell_type": "code",
   "execution_count": 1,
   "metadata": {},
   "outputs": [
    {
     "name": "stdout",
     "output_type": "stream",
     "text": [
      "{a: 38/27, b: -20/9, c: 8/9}\n"
     ]
    }
   ],
   "source": [
    "#[0,1]上の一様分布に従う確率変数Xを仮定した場合のE(ξ|η)を求める.\n",
    "#h(ξ)=a+bη+cη^2を定義して求める場合.\n",
    "\n",
    "import numpy as np\n",
    "import sympy as S\n",
    "x,c,b,a=S.symbols(\"x,c,b,a\",real=True)#変数x,c,b,aを定義\n",
    "xi = 2*x**2#ξを定義\n",
    "eta=S.Piecewise((1,S.And(S.Gt(x,0),S.Lt(x,S.Rational(1,3)))),#ηを定義 #  0 < x < 1/3\n",
    "                (2,S.And(S.Gt(x,S.Rational(1,3)),S.Lt(x,S.Rational(2,3)))), # 1/3 < x < 2/3,\n",
    "                (0,S.And(S.Gt(x,S.Rational(2,3)), S.Lt(x,1)))) # 1/3 < x < 2/3\n",
    "h = a+b*eta+c*eta**2#関数hを定義\n",
    "J=S.integrate((xi-h)**2,(x,0,1))#(ξ-h)^2の関数をxが0から1まで積分\n",
    "sol=S.solve([S.diff(J,a),#solve:方程式を解く,diff:微分,Jをaで微分\n",
    "             S.diff(J,b),#Jをbで微分\n",
    "             S.diff(J,c),#Jをcで微分\n",
    "            ],\n",
    "(a,b,c))\n",
    "print (sol)"
   ]
  },
  {
   "cell_type": "code",
   "execution_count": 4,
   "metadata": {},
   "outputs": [
    {
     "name": "stdout",
     "output_type": "stream",
     "text": [
      "Piecewise((2/27, (x > 0) & (x < 1/3)), (14/27, (x > 1/3) & (x < 2/3)), (38/27, (x > 2/3) & (x < 1)))\n"
     ]
    }
   ],
   "source": [
    "print (S.piecewise_fold(h.subs(sol)))#piecewise:区分関数を作成,subs:hにsolを代入"
   ]
  },
  {
   "cell_type": "code",
   "execution_count": 33,
   "metadata": {},
   "outputs": [],
   "source": [
    "#直交条件を用いた場合\n",
    "\n",
    "x,a,b,c,eta = S.symbols(\"x,a,b,c,eta\",real=True)x,a,b,c,eta変数を実数で、指定\n",
    "xi  = 2*x**2#ξ定義\n",
    "eta=S.Piecewise((1,S.And(S.Gt(x,0),#η定義\n",
    "                              S.Lt(x,S.Rational(1,3)))),  #  0 < x < 1/3\n",
    "(2,S.And(S.Gt(x,S.Rational(1,3)),\n",
    "         S.Lt(x,S.Rational(2,3)))), # 1/3 < x < 2/3,\n",
    "(0,S.And(S.Gt(x,S.Rational(2,3)),\n",
    "                         S.Lt(x,1)))) # 1/3 < x < 2/3\n",
    "\n",
    "h = c+b*eta+a*eta**2#h定義\n",
    "  "
   ]
  },
  {
   "cell_type": "code",
   "execution_count": 5,
   "metadata": {},
   "outputs": [
    {
     "data": {
      "text/plain": [
       "-a - b - 5*c/3 + 2/3"
      ]
     },
     "execution_count": 5,
     "metadata": {},
     "output_type": "execute_result"
    }
   ],
   "source": [
    "#直交条件定義\n",
    "S.integrate((xi-h)*1,(x,0,1))"
   ]
  },
  {
   "cell_type": "code",
   "execution_count": 6,
   "metadata": {},
   "outputs": [
    {
     "data": {
      "text/plain": [
       "-a - 5*b/3 - 3*c + 10/27"
      ]
     },
     "execution_count": 6,
     "metadata": {},
     "output_type": "execute_result"
    }
   ],
   "source": [
    "S.integrate((xi-h)*eta,(x,0,1))"
   ]
  },
  {
   "cell_type": "code",
   "execution_count": 7,
   "metadata": {},
   "outputs": [
    {
     "data": {
      "text/plain": [
       "-5*a/3 - 3*b - 17*c/3 + 58/81"
      ]
     },
     "execution_count": 7,
     "metadata": {},
     "output_type": "execute_result"
    }
   ],
   "source": [
    "S.integrate((xi-h)*eta**2,(x,0,1))"
   ]
  },
  {
   "cell_type": "code",
   "execution_count": null,
   "metadata": {},
   "outputs": [],
   "source": []
  },
  {
   "cell_type": "code",
   "execution_count": 35,
   "metadata": {},
   "outputs": [
    {
     "name": "stdout",
     "output_type": "stream",
     "text": [
      "{a: 0.888888888888889, b: -2.22222222222222, c: 1.40740740740741}\n"
     ]
    }
   ],
   "source": [
    "eqs=[ -5*a/3 - b - c + 2/3,\n",
    "-3*a - 5*b/3 - c + 10/27,\n",
    "-17*a/3 - 3*b - 5*c/3 + 58/81]\n",
    "sol=S.solve(eqs)\n",
    "print (sol)"
   ]
  },
  {
   "cell_type": "code",
   "execution_count": 37,
   "metadata": {},
   "outputs": [
    {
     "name": "stdout",
     "output_type": "stream",
     "text": [
      "Piecewise((0.074074074074074, (x > 0) & (x < 1/3)), (0.518518518518518, (x > 1/3) & (x < 2/3)), (1.40740740740741, (x > 2/3) & (x < 1)))\n"
     ]
    }
   ],
   "source": [
    "print (S.piecewise_fold(h.subs(sol)))\n"
   ]
  },
  {
   "cell_type": "code",
   "execution_count": 41,
   "metadata": {},
   "outputs": [
    {
     "data": {
      "text/plain": [
       "0    (0.667, 1.0]\n",
       "1    (0.0, 0.333]\n",
       "2    (0.667, 1.0]\n",
       "3    (0.0, 0.333]\n",
       "4    (0.667, 1.0]\n",
       "Name: x, dtype: category\n",
       "Categories (3, interval[float64]): [(0.0, 0.333] < (0.333, 0.667] < (0.667, 1.0]]"
      ]
     },
     "execution_count": 41,
     "metadata": {},
     "output_type": "execute_result"
    }
   ],
   "source": [
    "#pandasを用いた場合\n",
    "import pandas as pd\n",
    "d = pd.DataFrame(columns=[\"x\",\"eta\",\"xi\"])#空のDataFrameに列[x,eta,xi]を追加\n",
    "d.x = np.random.rand(1000)#x一様分布に従う乱数(0以上1未満)1000個ランダムに生成.\n",
    "d.xi = 2*d.x**2#ξを定義\n",
    "\n",
    "pd.cut(d.x,[0,1/3,2/3,1]).head()#cut:分割#head():最初の5行のみ示す"
   ]
  },
  {
   "cell_type": "code",
   "execution_count": 55,
   "metadata": {},
   "outputs": [
    {
     "data": {
      "text/plain": [
       "x\n",
       "(0.0, 0.333]      0.081260\n",
       "(0.333, 0.667]    0.510088\n",
       "(0.667, 1.0]      1.409949\n",
       "Name: xi, dtype: float64"
      ]
     },
     "execution_count": 55,
     "metadata": {},
     "output_type": "execute_result"
    }
   ],
   "source": [
    "d.groupby(pd.cut(d.x,[0, 1/3 ,2/3 ,1])).mean()['xi']"
   ]
  },
  {
   "cell_type": "code",
   "execution_count": 56,
   "metadata": {},
   "outputs": [
    {
     "data": {
      "text/plain": [
       "2/27"
      ]
     },
     "execution_count": 56,
     "metadata": {},
     "output_type": "execute_result"
    }
   ],
   "source": [
    "#Sympy.statsを用いた場合\n",
    "#stats:sympyの統計モジュール\n",
    "from sympy.stats import E, Uniform#E:期待値,Uniform('x',a, b):xを任意の範囲（a <= n <= b)の浮動小数点数float型の乱数を生成する。\n",
    "x=Uniform('x',0,1)\n",
    "E(2*x**2,S.And(x < S.Rational(1,3), x > 0))#0<x<1/3\n"
   ]
  },
  {
   "cell_type": "code",
   "execution_count": 58,
   "metadata": {},
   "outputs": [
    {
     "data": {
      "text/plain": [
       "14/27"
      ]
     },
     "execution_count": 58,
     "metadata": {},
     "output_type": "execute_result"
    }
   ],
   "source": [
    "E(2*x**2,S.And(x < S.Rational(2,3), x > S.Rational(1,3)))#0<x<2/3"
   ]
  },
  {
   "cell_type": "code",
   "execution_count": 59,
   "metadata": {},
   "outputs": [
    {
     "data": {
      "text/plain": [
       "38/27"
      ]
     },
     "execution_count": 59,
     "metadata": {},
     "output_type": "execute_result"
    }
   ],
   "source": [
    "E(2*x**2,S.And(x < 1, x > S.Rational(2,3)))#2/3<x<1"
   ]
  },
  {
   "cell_type": "code",
   "execution_count": null,
   "metadata": {},
   "outputs": [],
   "source": []
  },
  {
   "cell_type": "code",
   "execution_count": null,
   "metadata": {},
   "outputs": [],
   "source": []
  },
  {
   "cell_type": "code",
   "execution_count": null,
   "metadata": {},
   "outputs": [],
   "source": []
  },
  {
   "cell_type": "code",
   "execution_count": null,
   "metadata": {},
   "outputs": [],
   "source": []
  }
 ],
 "metadata": {
  "kernelspec": {
   "display_name": "Python 3",
   "language": "python",
   "name": "python3"
  },
  "language_info": {
   "codemirror_mode": {
    "name": "ipython",
    "version": 3
   },
   "file_extension": ".py",
   "mimetype": "text/x-python",
   "name": "python",
   "nbconvert_exporter": "python",
   "pygments_lexer": "ipython3",
   "version": "3.7.1"
  }
 },
 "nbformat": 4,
 "nbformat_minor": 2
}
