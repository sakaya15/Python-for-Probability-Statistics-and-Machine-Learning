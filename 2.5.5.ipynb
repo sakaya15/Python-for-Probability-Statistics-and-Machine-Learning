{
 "cells": [
  {
   "cell_type": "code",
   "execution_count": 4,
   "metadata": {
    "scrolled": false
   },
   "outputs": [
    {
     "data": {
      "text/html": [
       "<div>\n",
       "<style scoped>\n",
       "    .dataframe tbody tr th:only-of-type {\n",
       "        vertical-align: middle;\n",
       "    }\n",
       "\n",
       "    .dataframe tbody tr th {\n",
       "        vertical-align: top;\n",
       "    }\n",
       "\n",
       "    .dataframe thead th {\n",
       "        text-align: right;\n",
       "    }\n",
       "</style>\n",
       "<table border=\"1\" class=\"dataframe\">\n",
       "  <thead>\n",
       "    <tr style=\"text-align: right;\">\n",
       "      <th></th>\n",
       "      <th>xi</th>\n",
       "      <th>eta</th>\n",
       "      <th>x</th>\n",
       "      <th>h</th>\n",
       "      <th>h1</th>\n",
       "      <th>h2</th>\n",
       "    </tr>\n",
       "  </thead>\n",
       "  <tbody>\n",
       "    <tr>\n",
       "      <th>0</th>\n",
       "      <td>0.800234</td>\n",
       "      <td>0.734904</td>\n",
       "      <td>0.632548</td>\n",
       "      <td>0.800234</td>\n",
       "      <td>0.0</td>\n",
       "      <td>0.800234</td>\n",
       "    </tr>\n",
       "    <tr>\n",
       "      <th>1</th>\n",
       "      <td>1.325099</td>\n",
       "      <td>0.372057</td>\n",
       "      <td>0.813971</td>\n",
       "      <td>1.325099</td>\n",
       "      <td>0.0</td>\n",
       "      <td>1.325099</td>\n",
       "    </tr>\n",
       "    <tr>\n",
       "      <th>2</th>\n",
       "      <td>1.372835</td>\n",
       "      <td>0.342994</td>\n",
       "      <td>0.828503</td>\n",
       "      <td>1.372835</td>\n",
       "      <td>0.0</td>\n",
       "      <td>1.372835</td>\n",
       "    </tr>\n",
       "    <tr>\n",
       "      <th>3</th>\n",
       "      <td>1.354895</td>\n",
       "      <td>0.353856</td>\n",
       "      <td>0.823072</td>\n",
       "      <td>1.354895</td>\n",
       "      <td>0.0</td>\n",
       "      <td>1.354895</td>\n",
       "    </tr>\n",
       "    <tr>\n",
       "      <th>4</th>\n",
       "      <td>0.805950</td>\n",
       "      <td>0.730394</td>\n",
       "      <td>0.634803</td>\n",
       "      <td>0.805950</td>\n",
       "      <td>0.0</td>\n",
       "      <td>0.805950</td>\n",
       "    </tr>\n",
       "  </tbody>\n",
       "</table>\n",
       "</div>"
      ],
      "text/plain": [
       "         xi       eta         x         h   h1        h2\n",
       "0  0.800234  0.734904  0.632548  0.800234  0.0  0.800234\n",
       "1  1.325099  0.372057  0.813971  1.325099  0.0  1.325099\n",
       "2  1.372835  0.342994  0.828503  1.372835  0.0  1.372835\n",
       "3  1.354895  0.353856  0.823072  1.354895  0.0  1.354895\n",
       "4  0.805950  0.730394  0.634803  0.805950  0.0  0.805950"
      ]
     },
     "execution_count": 4,
     "metadata": {},
     "output_type": "execute_result"
    }
   ],
   "source": [
    "from pandas import DataFrame\n",
    "import numpy as np\n",
    "d=DataFrame(columns=['xi','eta','x','h','h1','h2'])#空のDataFrameに列[xi,eta,x,h,h1,h2]を追加\n",
    "d.x=np.random.rand(100)#一様分布に従う乱数(0以上1未満)を100個生成\n",
    "d.xi=d.eval('2*x**2')#2x^2を計算\n",
    "d.eta=1-abs(2*d.x-1)#abs:絶対値を求める\n",
    "d.h1=d[(d.x<0.5)].eval('eta**2/2')#x<0.5の時のh1=(η^2)/2を計算\n",
    "d.h2=d[(d.x>=0.5)].eval('(2-eta)**2/2')#x>=0.5の時のh2=((2-η)^2)/2を計算\n",
    "d.fillna(0,inplace=True)#fillna:NaNの部分を0に置き換える.\n",
    "d.h=d.h1+d.h2#hを定義\n",
    "d.head()#最初の5行を表示"
   ]
  },
  {
   "cell_type": "code",
   "execution_count": 13,
   "metadata": {},
   "outputs": [
    {
     "data": {
      "text/plain": [
       "Text(0, 0.5, '$h(\\\\eta)$')"
      ]
     },
     "execution_count": 13,
     "metadata": {},
     "output_type": "execute_result"
    },
    {
     "data": {
      "image/png": "[encoded data removed]",
      "text/plain": [
       "<Figure size 432x288 with 1 Axes>"
      ]
     },
     "metadata": {
      "needs_background": "light"
     },
     "output_type": "display_data"
    }
   ],
   "source": [
    "from matplotlib.pyplot import subplots\n",
    "fig,ax=subplots()#グラフが入っていない状態、座標のみを指定\n",
    "ax.plot(d.xi,d.eta,' . ',alpha=3,label='$\\eta$')#ηのグラフ,'.'':指定,alpha:グラフの色の濃さ\n",
    "ax.plot(d.xi,d.h,'k',label='$h(\\eta)$')#h(η)のグラフ,k:黒指定\n",
    "ax.legend(loc=0,fontsize=18)#η、h(η)の説明表示位置指定\n",
    "ax.set_xlabel('$2 x^2$',fontsize=18)#fontsize:文字の大きさ指定\n",
    "ax.set_ylabel('$h(\\eta)$',fontsize=18)#fontsize:文字の大きさ指定"
   ]
  },
  {
   "cell_type": "code",
   "execution_count": null,
   "metadata": {},
   "outputs": [],
   "source": []
  },
  {
   "cell_type": "code",
   "execution_count": null,
   "metadata": {},
   "outputs": [],
   "source": []
  },
  {
   "cell_type": "code",
   "execution_count": null,
   "metadata": {},
   "outputs": [],
   "source": []
  },
  {
   "cell_type": "code",
   "execution_count": null,
   "metadata": {},
   "outputs": [],
   "source": []
  },
  {
   "cell_type": "code",
   "execution_count": null,
   "metadata": {},
   "outputs": [],
   "source": []
  },
  {
   "cell_type": "code",
   "execution_count": null,
   "metadata": {},
   "outputs": [],
   "source": []
  },
  {
   "cell_type": "code",
   "execution_count": null,
   "metadata": {},
   "outputs": [],
   "source": []
  },
  {
   "cell_type": "code",
   "execution_count": null,
   "metadata": {},
   "outputs": [],
   "source": []
  },
  {
   "cell_type": "code",
   "execution_count": null,
   "metadata": {},
   "outputs": [],
   "source": []
  },
  {
   "cell_type": "code",
   "execution_count": null,
   "metadata": {},
   "outputs": [],
   "source": []
  },
  {
   "cell_type": "code",
   "execution_count": null,
   "metadata": {},
   "outputs": [],
   "source": []
  },
  {
   "cell_type": "code",
   "execution_count": null,
   "metadata": {},
   "outputs": [],
   "source": []
  },
  {
   "cell_type": "code",
   "execution_count": null,
   "metadata": {},
   "outputs": [],
   "source": []
  },
  {
   "cell_type": "code",
   "execution_count": null,
   "metadata": {},
   "outputs": [],
   "source": []
  },
  {
   "cell_type": "code",
   "execution_count": null,
   "metadata": {},
   "outputs": [],
   "source": []
  }
 ],
 "metadata": {
  "kernelspec": {
   "display_name": "Python 3",
   "language": "python",
   "name": "python3"
  },
  "language_info": {
   "codemirror_mode": {
    "name": "ipython",
    "version": 3
   },
   "file_extension": ".py",
   "mimetype": "text/x-python",
   "name": "python",
   "nbconvert_exporter": "python",
   "pygments_lexer": "ipython3",
   "version": "3.7.1"
  }
 },
 "nbformat": 4,
 "nbformat_minor": 2
}
